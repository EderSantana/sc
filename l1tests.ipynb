{
 "metadata": {
  "name": "",
  "signature": "sha256:26d68006346c8720b9f57805b6b8de980cc4da49f978f7b59ab729ffa8120ff7"
 },
 "nbformat": 3,
 "nbformat_minor": 0,
 "worksheets": [
  {
   "cells": [
    {
     "cell_type": "code",
     "collapsed": false,
     "input": [
      "%matplotlib inline\n",
      "\n",
      "import theano\n",
      "import cPickle\n",
      "import numpy as np\n",
      "from theano import tensor, function\n",
      "from pylab import imshow\n",
      "from pylab import rcParams\n",
      "\n",
      "from agnez.weight import grid2d\n",
      "from fuel.datasets import MNIST\n",
      "from fuel.streams import DataStream\n",
      "from fuel.transformers import Mapping\n",
      "from fuel.schemes import SequentialScheme\n",
      "from blocks.bricks.cost import MisclassificationRate"
     ],
     "language": "python",
     "metadata": {},
     "outputs": []
    },
    {
     "cell_type": "heading",
     "level": 4,
     "metadata": {},
     "source": [
      "Load models and data"
     ]
    },
    {
     "cell_type": "code",
     "collapsed": false,
     "input": [
      "model_name = 'best_variational.pkl'\n",
      "states = cPickle.load(file(model_name, 'r'))[0]\n",
      "\n",
      "mnist = MNIST('train', sources=['features'])\n",
      "data, _ = mnist._load_mnist()\n",
      "means = data.mean(axis=0)\n",
      "\n",
      "def _meanize(data):\n",
      "    newfirst = data[0] - means[None, :]\n",
      "    return (newfirst, data[1])\n",
      "\n",
      "mnist_test = MNIST(\"test\")\n",
      "teststream = Mapping(DataStream(mnist_test,\n",
      "                     iteration_scheme=SequentialScheme(\n",
      "                         mnist_test.num_examples, 100)),\n",
      "                     _meanize)"
     ],
     "language": "python",
     "metadata": {},
     "outputs": []
    },
    {
     "cell_type": "heading",
     "level": 4,
     "metadata": {},
     "source": [
      "Visualize weights"
     ]
    },
    {
     "cell_type": "code",
     "collapsed": false,
     "input": [
      "rcParams['figure.figsize'] = 5,5\n",
      "W = states.W.get_value()\n",
      "W = states.mlp.linear_transformations[-1].W.get_value()\n",
      "I = grid2d(W[:100])\n",
      "imshow(I, cmap='gray')"
     ],
     "language": "python",
     "metadata": {},
     "outputs": []
    },
    {
     "cell_type": "heading",
     "level": 4,
     "metadata": {},
     "source": [
      "Reconstructions"
     ]
    },
    {
     "cell_type": "code",
     "collapsed": false,
     "input": [
      "EPS = tensor.matrix('noise')\n",
      "ZZ = states.mlp.apply(EPS)\n",
      "F = function([EPS], ZZ)\n",
      "eps = np.random.laplace(0.0013,2,(1,500)).astype('float32')\n",
      "zz = F(eps)\n",
      "imshow(zz.reshape((28,28)),cmap='gray')"
     ],
     "language": "python",
     "metadata": {},
     "outputs": []
    },
    {
     "cell_type": "code",
     "collapsed": false,
     "input": [
      "X = tensor.matrix('features')\n",
      "EPS = tensor.tensor3('noise')\n",
      "Z = states.apply(noise=EPS, inputs=X, gamma=.1)[1]\n",
      "Y = states.mlp.apply(Z)\n",
      "F = function([X, EPS], Y)\n",
      "E = function([X, EPS], tensor.sqr(X-Y[-1]).sum())\n",
      "\n",
      "total_error = 0\n",
      "total_energy = 0\n",
      "for x_val in teststream.get_epoch_iterator():\n",
      "    eps = np.random.laplace(0,1,(20,100,500)).astype('float32')\n",
      "    total_error += E(x_val[0], eps)\n",
      "    total_energy += (x_val[0]**2).sum()"
     ],
     "language": "python",
     "metadata": {},
     "outputs": []
    },
    {
     "cell_type": "code",
     "collapsed": false,
     "input": [
      "from agnez.inputs import image_sequence\n",
      "rcParams['figure.figsize'] = 200, 20\n",
      "y = F(x_val[0], eps)\n",
      "rec = image_sequence(y[-20:, 0, :], (28,28))\n",
      "imshow(rec, cmap='gray')\n",
      "\n",
      "print \"SNR (DB) = %f\" % (10*np.log10(total_error))\n"
     ],
     "language": "python",
     "metadata": {},
     "outputs": []
    },
    {
     "cell_type": "heading",
     "level": 4,
     "metadata": {},
     "source": [
      "Classification"
     ]
    },
    {
     "cell_type": "code",
     "collapsed": false,
     "input": [
      "TT = tensor.matrix('targets')\n",
      "probs = clf.apply(Z)\n",
      "clf_error_rate = MisclassificationRate().apply(TT.flatten(), probs)\n",
      "CLF = theano.function([X,TT], clf_error_rate)\n",
      "\n",
      "error_rate = 0\n",
      "for x_val in teststream.get_epoch_iterator():\n",
      "    error_rate += CLF(x_val[0], x_val[1])\n",
      "    \n",
      "print \"total error rate = %f\" % (error_rate/100)"
     ],
     "language": "python",
     "metadata": {},
     "outputs": [
      {
       "ename": "NameError",
       "evalue": "name 'clf' is not defined",
       "output_type": "pyerr",
       "traceback": [
        "\u001b[1;31m---------------------------------------------------------------------------\u001b[0m\n\u001b[1;31mNameError\u001b[0m                                 Traceback (most recent call last)",
        "\u001b[1;32m<ipython-input-97-d00eae1164ea>\u001b[0m in \u001b[0;36m<module>\u001b[1;34m()\u001b[0m\n\u001b[0;32m      1\u001b[0m \u001b[0mTT\u001b[0m \u001b[1;33m=\u001b[0m \u001b[0mtensor\u001b[0m\u001b[1;33m.\u001b[0m\u001b[0mmatrix\u001b[0m\u001b[1;33m(\u001b[0m\u001b[1;34m'targets'\u001b[0m\u001b[1;33m)\u001b[0m\u001b[1;33m\u001b[0m\u001b[0m\n\u001b[1;32m----> 2\u001b[1;33m \u001b[0mprobs\u001b[0m \u001b[1;33m=\u001b[0m \u001b[0mclf\u001b[0m\u001b[1;33m.\u001b[0m\u001b[0mapply\u001b[0m\u001b[1;33m(\u001b[0m\u001b[0mZ\u001b[0m\u001b[1;33m)\u001b[0m\u001b[1;33m\u001b[0m\u001b[0m\n\u001b[0m\u001b[0;32m      3\u001b[0m \u001b[0mclf_error_rate\u001b[0m \u001b[1;33m=\u001b[0m \u001b[0mMisclassificationRate\u001b[0m\u001b[1;33m(\u001b[0m\u001b[1;33m)\u001b[0m\u001b[1;33m.\u001b[0m\u001b[0mapply\u001b[0m\u001b[1;33m(\u001b[0m\u001b[0mTT\u001b[0m\u001b[1;33m.\u001b[0m\u001b[0mflatten\u001b[0m\u001b[1;33m(\u001b[0m\u001b[1;33m)\u001b[0m\u001b[1;33m,\u001b[0m \u001b[0mprobs\u001b[0m\u001b[1;33m)\u001b[0m\u001b[1;33m\u001b[0m\u001b[0m\n\u001b[0;32m      4\u001b[0m \u001b[0mCLF\u001b[0m \u001b[1;33m=\u001b[0m \u001b[0mtheano\u001b[0m\u001b[1;33m.\u001b[0m\u001b[0mfunction\u001b[0m\u001b[1;33m(\u001b[0m\u001b[1;33m[\u001b[0m\u001b[0mX\u001b[0m\u001b[1;33m,\u001b[0m\u001b[0mTT\u001b[0m\u001b[1;33m]\u001b[0m\u001b[1;33m,\u001b[0m \u001b[0mclf_error_rate\u001b[0m\u001b[1;33m)\u001b[0m\u001b[1;33m\u001b[0m\u001b[0m\n\u001b[0;32m      5\u001b[0m \u001b[1;33m\u001b[0m\u001b[0m\n",
        "\u001b[1;31mNameError\u001b[0m: name 'clf' is not defined"
       ]
      }
     ],
     "prompt_number": 97
    },
    {
     "cell_type": "code",
     "collapsed": false,
     "input": [
      "y.shape"
     ],
     "language": "python",
     "metadata": {},
     "outputs": [
      {
       "metadata": {},
       "output_type": "pyout",
       "prompt_number": 5,
       "text": [
        "(100, 784)"
       ]
      }
     ],
     "prompt_number": 5
    },
    {
     "cell_type": "code",
     "collapsed": false,
     "input": [
      "means.mean()"
     ],
     "language": "python",
     "metadata": {},
     "outputs": [
      {
       "metadata": {},
       "output_type": "pyout",
       "prompt_number": 85,
       "text": [
        "0.13066266"
       ]
      }
     ],
     "prompt_number": 85
    },
    {
     "cell_type": "code",
     "collapsed": false,
     "input": [],
     "language": "python",
     "metadata": {},
     "outputs": []
    }
   ],
   "metadata": {}
  }
 ]
}